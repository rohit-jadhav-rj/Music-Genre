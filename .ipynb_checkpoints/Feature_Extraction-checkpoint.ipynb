{
 "cells": [
  {
   "cell_type": "code",
   "execution_count": 1,
   "metadata": {},
   "outputs": [],
   "source": [
    "from python_speech_features import mfcc\n",
    "import scipy.io.wavfile as wav\n",
    "import numpy as np\n",
    "\n",
    "from tempfile import TemporaryFile\n",
    "import os\n",
    "import pickle\n",
    "import random \n",
    "import operator\n",
    "\n",
    "import math\n",
    "import numpy as np\n",
    "from scipy.spatial import distance"
   ]
  },
  {
   "cell_type": "code",
   "execution_count": 2,
   "metadata": {},
   "outputs": [],
   "source": [
    "def distance(instance1 , instance2 , k ):\n",
    "    distance =0 \n",
    "    mm1 = instance1[0] \n",
    "    cm1 = instance1[1]\n",
    "    mm2 = instance2[0]\n",
    "    cm2 = instance2[1]\n",
    "    distance = np.trace(np.dot(np.linalg.inv(cm2), cm1)) \n",
    "    distance+=(np.dot(np.dot((mm2-mm1).transpose() , np.linalg.inv(cm2)) , mm2-mm1 )) \n",
    "    distance+= np.log(np.linalg.det(cm2)) - np.log(np.linalg.det(cm1))\n",
    "    distance-= k\n",
    "    return distance"
   ]
  },
  {
   "cell_type": "code",
   "execution_count": 3,
   "metadata": {},
   "outputs": [],
   "source": [
    "def getNeighbors(trainingSet, instance, k):\n",
    "    distances = []\n",
    "    for x in range (len(trainingSet)):\n",
    "        dist = distance(trainingSet[x], instance, k )+ distance(instance, trainingSet[x], k)\n",
    "        distances.append((trainingSet[x][2], dist))\n",
    "    distances.sort(key=operator.itemgetter(1))\n",
    "    neighbors = []\n",
    "    for x in range(k):\n",
    "        neighbors.append(distances[x][0])\n",
    "    return neighbors"
   ]
  },
  {
   "cell_type": "code",
   "execution_count": 4,
   "metadata": {},
   "outputs": [],
   "source": [
    "def nearestClass(neighbors):\n",
    "    classVote = {}\n",
    "    for x in range(len(neighbors)):\n",
    "        response = neighbors[x]\n",
    "        if response in classVote:\n",
    "            classVote[response]+=1 \n",
    "        else:\n",
    "            classVote[response]=1\n",
    "    sorter = sorted(classVote.items(), key = operator.itemgetter(1), reverse=True)\n",
    "    return sorter[0][0]"
   ]
  },
  {
   "cell_type": "code",
   "execution_count": 5,
   "metadata": {},
   "outputs": [],
   "source": [
    "def getAccuracy(testSet, predictions):\n",
    "    correct = 0 \n",
    "    for x in range (len(testSet)):\n",
    "        if testSet[x][-1]==predictions[x]:\n",
    "            correct+=1\n",
    "    return 1.0*correct/len(testSet)"
   ]
  },
  {
   "cell_type": "code",
   "execution_count": 6,
   "metadata": {},
   "outputs": [],
   "source": [
    "directory = \"C:\\\\Users\\\\User\\\\Desktop\\\\SEM VI\\\\Ml\\\\genres\\\\\"\n",
    "f= open(\"my.dat\" ,'wb')\n",
    "i=0\n",
    "for folder in os.listdir(directory):\n",
    "    i+=1\n",
    "    if i == 11:\n",
    "        break\n",
    "    for file in os.listdir(directory+folder):\n",
    "        (rate,sig) = wav.read(directory+folder+\"/\"+file)\n",
    "        mfcc_feat = mfcc(sig,rate ,winlen=0.020, appendEnergy = False)\n",
    "        covariance = np.cov(np.matrix.transpose(mfcc_feat))\n",
    "        mean_matrix = mfcc_feat.mean(0)\n",
    "        feature = (mean_matrix , covariance , i)\n",
    "        pickle.dump(feature , f)\n",
    "f.close()"
   ]
  },
  {
   "cell_type": "code",
   "execution_count": 17,
   "metadata": {},
   "outputs": [
    {
     "name": "stdout",
     "output_type": "stream",
     "text": [
      "(array([ 76.50261107,  -1.96141736, -15.7743469 ,   3.8314189 ,\n",
      "       -10.47332553,   1.31182833, -19.39373183,   5.28678994,\n",
      "       -16.63172467,   5.3534445 ,  -9.85657026,   6.25007663,\n",
      "        -5.58749505]), array([[ 3.13643266e+01, -1.34683421e+00, -9.48272203e-01,\n",
      "        -2.05382281e+01, -1.45847814e+01, -1.72347943e+01,\n",
      "        -9.35145739e+00,  2.72034545e+00, -3.29035455e+00,\n",
      "         1.04057336e+00,  2.32513168e+00,  6.09119695e+00,\n",
      "         8.44732834e+00],\n",
      "       [-1.34683421e+00,  3.64751586e+01, -2.19100677e+01,\n",
      "        -1.52506981e+01, -7.71247217e+00, -1.42477860e+01,\n",
      "        -6.48177523e+00,  3.95463925e+00,  1.14509487e+00,\n",
      "        -4.30576920e+00,  9.05817993e+00,  8.98145706e+00,\n",
      "         7.68495192e+00],\n",
      "       [-9.48272203e-01, -2.19100677e+01,  7.63578328e+01,\n",
      "         1.69425823e+01, -2.67611115e+01, -2.71149039e+00,\n",
      "         1.99049253e+01,  1.64116110e+01, -1.31355709e+01,\n",
      "         1.53609455e+01, -1.31293962e+01, -7.47897696e+00,\n",
      "        -1.43408653e+01],\n",
      "       [-2.05382281e+01, -1.52506981e+01,  1.69425823e+01,\n",
      "         8.81632650e+01,  4.12699446e+01,  3.87264439e+01,\n",
      "         4.90998334e+00, -2.16976433e+01,  1.60594008e+01,\n",
      "        -1.25872911e+01, -1.02448062e+01, -1.43945987e+01,\n",
      "        -6.84916335e+00],\n",
      "       [-1.45847814e+01, -7.71247217e+00, -2.67611115e+01,\n",
      "         4.12699446e+01,  1.19321523e+02,  4.66003407e+01,\n",
      "        -1.92208642e+01, -3.94618140e+01,  1.66051267e+01,\n",
      "        -1.69172614e+01, -8.78168305e+00, -5.58281414e+00,\n",
      "         3.78669608e+00],\n",
      "       [-1.72347943e+01, -1.42477860e+01, -2.71149039e+00,\n",
      "         3.87264439e+01,  4.66003407e+01,  9.60482987e+01,\n",
      "         8.98961628e+00, -3.43591422e+01,  1.84438295e+01,\n",
      "        -8.45766070e+00, -5.85733348e+00, -5.44735154e+00,\n",
      "        -2.11745850e-02],\n",
      "       [-9.35145739e+00, -6.48177523e+00,  1.99049253e+01,\n",
      "         4.90998334e+00, -1.92208642e+01,  8.98961628e+00,\n",
      "         8.63132389e+01,  4.28379412e+01,  1.75222620e+01,\n",
      "        -1.04685593e+01, -2.84250646e-01, -1.20036343e+01,\n",
      "        -1.45231172e+01],\n",
      "       [ 2.72034545e+00,  3.95463925e+00,  1.64116110e+01,\n",
      "        -2.16976433e+01, -3.94618140e+01, -3.43591422e+01,\n",
      "         4.28379412e+01,  1.22790755e+02,  2.20687087e+01,\n",
      "         1.45781380e+00, -1.27295942e+01,  4.03984963e+00,\n",
      "        -1.29953309e+01],\n",
      "       [-3.29035455e+00,  1.14509487e+00, -1.31355709e+01,\n",
      "         1.60594008e+01,  1.66051267e+01,  1.84438295e+01,\n",
      "         1.75222620e+01,  2.20687087e+01,  1.09824146e+02,\n",
      "         3.38342116e+00, -1.36512426e+01, -2.12526426e+01,\n",
      "        -3.84348934e+00],\n",
      "       [ 1.04057336e+00, -4.30576920e+00,  1.53609455e+01,\n",
      "        -1.25872911e+01, -1.69172614e+01, -8.45766070e+00,\n",
      "        -1.04685593e+01,  1.45781380e+00,  3.38342116e+00,\n",
      "         9.94008340e+01,  2.47510682e+01, -1.43565213e+01,\n",
      "        -1.48316190e+01],\n",
      "       [ 2.32513168e+00,  9.05817993e+00, -1.31293962e+01,\n",
      "        -1.02448062e+01, -8.78168305e+00, -5.85733348e+00,\n",
      "        -2.84250646e-01, -1.27295942e+01, -1.36512426e+01,\n",
      "         2.47510682e+01,  7.78045086e+01,  2.89174482e+01,\n",
      "         2.25119526e+00],\n",
      "       [ 6.09119695e+00,  8.98145706e+00, -7.47897696e+00,\n",
      "        -1.43945987e+01, -5.58281414e+00, -5.44735154e+00,\n",
      "        -1.20036343e+01,  4.03984963e+00, -2.12526426e+01,\n",
      "        -1.43565213e+01,  2.89174482e+01,  9.23654698e+01,\n",
      "         2.92826066e+01],\n",
      "       [ 8.44732834e+00,  7.68495192e+00, -1.43408653e+01,\n",
      "        -6.84916335e+00,  3.78669608e+00, -2.11745850e-02,\n",
      "        -1.45231172e+01, -1.29953309e+01, -3.84348934e+00,\n",
      "        -1.48316190e+01,  2.25119526e+00,  2.92826066e+01,\n",
      "         6.46507617e+01]]), 1)\n"
     ]
    }
   ],
   "source": [
    "dataset = []\n",
    "def loadDataset(filename , split , trSet , teSet):\n",
    "    with open(\"my.dat\" , 'rb') as f:\n",
    "        while True:\n",
    "            try:\n",
    "                dataset.append(pickle.load(f))\n",
    "            except EOFError:\n",
    "                f.close()\n",
    "                break  \n",
    "\n",
    "    for x in range(len(dataset)):\n",
    "        if random.random() <split :      \n",
    "            trSet.append(dataset[x])\n",
    "        else:\n",
    "            teSet.append(dataset[x])  \n",
    "\n",
    "trainingSet = []\n",
    "testSet = []\n",
    "loadDataset(\"my.dat\" , 0.66, trainingSet, testSet)\n",
    "print(dataset[0])"
   ]
  },
  {
   "cell_type": "code",
   "execution_count": 8,
   "metadata": {},
   "outputs": [
    {
     "name": "stdout",
     "output_type": "stream",
     "text": [
      "[0.6867469879518072, 0.677710843373494, 0.6686746987951807, 0.6927710843373494, 0.6716867469879518, 0.6506024096385542, 0.6475903614457831, 0.6385542168674698, 0.6445783132530121, 0.641566265060241, 0.6355421686746988, 0.6325301204819277, 0.6234939759036144, 0.5993975903614458, 0.5903614457831325, 0.5993975903614458, 0.5933734939759037, 0.5783132530120482, 0.5873493975903614, 0.5813253012048193, 0.5662650602409639, 0.572289156626506, 0.5662650602409639]\n"
     ]
    }
   ],
   "source": [
    "result = []\n",
    "for i in range(5,50,2):\n",
    "    leng = len(testSet)\n",
    "    predictions = []\n",
    "    for x in range (leng):\n",
    "        predictions.append(nearestClass(getNeighbors(trainingSet ,testSet[x] , i))) \n",
    "\n",
    "    accuracy1 = getAccuracy(testSet , predictions)\n",
    "    result.append(accuracy1)\n",
    "print(result)"
   ]
  },
  {
   "cell_type": "code",
   "execution_count": 15,
   "metadata": {},
   "outputs": [
    {
     "data": {
      "image/png": "[encoded data removed]",
      "text/plain": [
       "<Figure size 432x288 with 1 Axes>"
      ]
     },
     "metadata": {
      "needs_background": "light"
     },
     "output_type": "display_data"
    }
   ],
   "source": [
    "import matplotlib.pyplot as plt\n",
    "plt.plot(list(range(5,50,2)),result)\n",
    "plt.title(' Variation - acc/k ')\n",
    "plt.xlabel('K')\n",
    "plt.ylabel('Accuracy')\n",
    "plt.show()"
   ]
  },
  {
   "cell_type": "code",
   "execution_count": 14,
   "metadata": {},
   "outputs": [
    {
     "data": {
      "text/plain": [
       "0.6927710843373494"
      ]
     },
     "execution_count": 14,
     "metadata": {},
     "output_type": "execute_result"
    }
   ],
   "source": [
    "max(result)"
   ]
  },
  {
   "cell_type": "code",
   "execution_count": null,
   "metadata": {},
   "outputs": [],
   "source": []
  }
 ],
 "metadata": {
  "kernelspec": {
   "display_name": "Python 3",
   "language": "python",
   "name": "python3"
  },
  "language_info": {
   "codemirror_mode": {
    "name": "ipython",
    "version": 3
   },
   "file_extension": ".py",
   "mimetype": "text/x-python",
   "name": "python",
   "nbconvert_exporter": "python",
   "pygments_lexer": "ipython3",
   "version": "3.7.4"
  }
 },
 "nbformat": 4,
 "nbformat_minor": 2
}
