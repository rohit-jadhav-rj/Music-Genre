{
 "cells": [
  {
   "cell_type": "code",
   "execution_count": 1,
   "metadata": {},
   "outputs": [],
   "source": [
    "import math\n",
    "import numpy as np"
   ]
  },
  {
   "cell_type": "code",
   "execution_count": 2,
   "metadata": {},
   "outputs": [],
   "source": [
    "import pickle\n",
    "dbfile = open('extracted_dataset', 'rb')\n",
    "# source, destination\n",
    "dataset = pickle.load(dbfile)                     \n",
    "dbfile.close()"
   ]
  },
  {
   "cell_type": "code",
   "execution_count": 3,
   "metadata": {},
   "outputs": [],
   "source": [
    "X=np.array(dataset['features'].tolist())\n",
    "y=np.array(dataset['class'].tolist())"
   ]
  },
  {
   "cell_type": "code",
   "execution_count": 4,
   "metadata": {},
   "outputs": [],
   "source": [
    "from sklearn.model_selection import train_test_split\n",
    "X_train,X_test,y_train,y_test=train_test_split(X,y,test_size=0.2,random_state=0)"
   ]
  },
  {
   "cell_type": "code",
   "execution_count": 5,
   "metadata": {},
   "outputs": [],
   "source": [
    "from sklearn.preprocessing import MinMaxScaler\n",
    "scaler = MinMaxScaler()\n",
    "X_train = scaler.fit_transform(X_train)\n",
    "X_test = scaler.fit_transform(X_test)"
   ]
  },
  {
   "cell_type": "code",
   "execution_count": 7,
   "metadata": {},
   "outputs": [],
   "source": [
    "from sklearn.naive_bayes import GaussianNB\n",
    "classifier = GaussianNB()\n",
    "classifier.fit(X_train,y_train)\n",
    "y_pred = classifier.predict(X_test)"
   ]
  },
  {
   "cell_type": "code",
   "execution_count": 9,
   "metadata": {},
   "outputs": [
    {
     "name": "stdout",
     "output_type": "stream",
     "text": [
      "[[ 9  1  0  0  0  1  4  0  0  0]\n",
      " [ 0 11  0  0  0  0  0  0  0  0]\n",
      " [10  3  0  3  2  5  1  1  0  2]\n",
      " [ 3  0  0  5  3  0  7  1  2  1]\n",
      " [ 1  0  0  1 10  0  8  0  2  1]\n",
      " [ 3  4  0  1  1  6  0  1  2  0]\n",
      " [ 0  0  0  0  2  0 18  0  0  0]\n",
      " [ 0  0  0  1  2  0  0 18  3  0]\n",
      " [ 1  1  0  0  2  1  1  3  6  0]\n",
      " [10  1  0  2  0  0  7  4  0  1]]\n",
      "              precision    recall  f1-score   support\n",
      "\n",
      "           1       0.24      0.60      0.35        15\n",
      "           2       0.52      1.00      0.69        11\n",
      "           3       0.00      0.00      0.00        27\n",
      "           4       0.38      0.23      0.29        22\n",
      "           5       0.45      0.43      0.44        23\n",
      "           6       0.46      0.33      0.39        18\n",
      "           7       0.39      0.90      0.55        20\n",
      "           8       0.64      0.75      0.69        24\n",
      "           9       0.40      0.40      0.40        15\n",
      "          10       0.20      0.04      0.07        25\n",
      "\n",
      "    accuracy                           0.42       200\n",
      "   macro avg       0.37      0.47      0.39       200\n",
      "weighted avg       0.35      0.42      0.36       200\n",
      "\n"
     ]
    }
   ],
   "source": [
    "from sklearn.metrics import classification_report, confusion_matrix\n",
    "cf_matrix = confusion_matrix(y_test,y_pred)\n",
    "print(cf_matrix)\n",
    "print(classification_report(y_test,y_pred))"
   ]
  },
  {
   "cell_type": "code",
   "execution_count": 11,
   "metadata": {},
   "outputs": [
    {
     "data": {
      "text/plain": [
       "<matplotlib.axes._subplots.AxesSubplot at 0x189f3fb8a48>"
      ]
     },
     "execution_count": 11,
     "metadata": {},
     "output_type": "execute_result"
    },
    {
     "data": {
      "image/png": "[encoded data removed]",
      "text/plain": [
       "<Figure size 432x288 with 2 Axes>"
      ]
     },
     "metadata": {
      "needs_background": "light"
     },
     "output_type": "display_data"
    }
   ],
   "source": [
    "import seaborn as sns\n",
    "sns.heatmap(cf_matrix, annot=True ,cmap='Blues')"
   ]
  },
  {
   "cell_type": "code",
   "execution_count": null,
   "metadata": {},
   "outputs": [],
   "source": []
  }
 ],
 "metadata": {
  "kernelspec": {
   "display_name": "Python 3",
   "language": "python",
   "name": "python3"
  },
  "language_info": {
   "codemirror_mode": {
    "name": "ipython",
    "version": 3
   },
   "file_extension": ".py",
   "mimetype": "text/x-python",
   "name": "python",
   "nbconvert_exporter": "python",
   "pygments_lexer": "ipython3",
   "version": "3.7.4"
  }
 },
 "nbformat": 4,
 "nbformat_minor": 2
}
